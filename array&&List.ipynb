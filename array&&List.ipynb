{
  "nbformat": 4,
  "nbformat_minor": 0,
  "metadata": {
    "colab": {
      "provenance": [],
      "authorship_tag": "ABX9TyPTVtguwSegFYig+i/fXYYZ",
      "include_colab_link": true
    },
    "kernelspec": {
      "name": "python3",
      "display_name": "Python 3"
    },
    "language_info": {
      "name": "python"
    }
  },
  "cells": [
    {
      "cell_type": "markdown",
      "metadata": {
        "id": "view-in-github",
        "colab_type": "text"
      },
      "source": [
        "<a href=\"https://colab.research.google.com/github/AhmadAlabrash/machine-learning/blob/main/array%26%26List.ipynb\" target=\"_parent\"><img src=\"https://colab.research.google.com/assets/colab-badge.svg\" alt=\"Open In Colab\"/></a>"
      ]
    },
    {
      "cell_type": "code",
      "execution_count": 15,
      "metadata": {
        "id": "Gc4Kf4GiwutF"
      },
      "outputs": [],
      "source": [
        "import numpy as np\n",
        "import sys\n",
        "import  time"
      ]
    },
    {
      "cell_type": "code",
      "source": [
        "l1 = range(1000000)\n",
        "l2 = range(1000000)\n"
      ],
      "metadata": {
        "id": "C5rYeVFexVTt"
      },
      "execution_count": 30,
      "outputs": []
    },
    {
      "cell_type": "code",
      "source": [
        "k1 = np.arange(1000000)\n",
        "k2 = np.arange(1000000)"
      ],
      "metadata": {
        "id": "LVpGS27cyvIy"
      },
      "execution_count": 31,
      "outputs": []
    },
    {
      "cell_type": "code",
      "source": [
        "#time for make any calculas in list  is more than array 17 times (sometimes more)\n",
        "start = time.time()\n",
        "result = [(x+y ) for x,y in  zip(l1,l2)]\n",
        "print((time.time()- start) *1000)\n",
        "\n",
        "\n",
        "start = time.time()\n",
        "res = k1+k2\n",
        "print(1000 * ( time.time() -start))"
      ],
      "metadata": {
        "colab": {
          "base_uri": "https://localhost:8080/"
        },
        "id": "kRzpZ3Roxk7R",
        "outputId": "f29516de-a532-4405-da96-cc0e10d5f60b"
      },
      "execution_count": 50,
      "outputs": [
        {
          "output_type": "stream",
          "name": "stdout",
          "text": [
            "140.06543159484863\n",
            "3.962993621826172\n"
          ]
        }
      ]
    },
    {
      "cell_type": "code",
      "source": [
        "# size of one item(ANY NUMBER) in list is : 28\n",
        "# but of one item in array is : 8\n",
        "print(sys.getsizeof(5))\n",
        "print(k1.itemsize)"
      ],
      "metadata": {
        "colab": {
          "base_uri": "https://localhost:8080/"
        },
        "id": "2lduSkVS2x-y",
        "outputId": "2fc614c5-199b-425c-8175-79618a7d1e85"
      },
      "execution_count": 49,
      "outputs": [
        {
          "output_type": "stream",
          "name": "stdout",
          "text": [
            "28\n",
            "8\n"
          ]
        }
      ]
    }
  ]
}