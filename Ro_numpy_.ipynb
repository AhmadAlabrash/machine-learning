{
  "nbformat": 4,
  "nbformat_minor": 0,
  "metadata": {
    "colab": {
      "provenance": [],
      "collapsed_sections": [],
      "authorship_tag": "ABX9TyOGR5vEliTPEriJxaNYeOeQ",
      "include_colab_link": true
    },
    "kernelspec": {
      "name": "python3",
      "display_name": "Python 3"
    },
    "language_info": {
      "name": "python"
    }
  },
  "cells": [
    {
      "cell_type": "markdown",
      "metadata": {
        "id": "view-in-github",
        "colab_type": "text"
      },
      "source": [
        "<a href=\"https://colab.research.google.com/github/AhmadAlabrash/machine-learning/blob/main/Ro_numpy_.ipynb\" target=\"_parent\"><img src=\"https://colab.research.google.com/assets/colab-badge.svg\" alt=\"Open In Colab\"/></a>"
      ]
    },
    {
      "cell_type": "code",
      "execution_count": 63,
      "metadata": {
        "id": "Gc4Kf4GiwutF"
      },
      "outputs": [],
      "source": [
        "import numpy as np\n",
        "import sys\n",
        "import  time\n",
        "import pprint"
      ]
    },
    {
      "cell_type": "code",
      "source": [
        "l1 = range(1000000)\n",
        "l2 = range(1000000)\n"
      ],
      "metadata": {
        "id": "C5rYeVFexVTt"
      },
      "execution_count": 55,
      "outputs": []
    },
    {
      "cell_type": "code",
      "source": [
        "k1 = np.arange(1000000,dtype=int)\n",
        "k2 = np.arange(1000000 ,dtype =int)"
      ],
      "metadata": {
        "id": "LVpGS27cyvIy"
      },
      "execution_count": 56,
      "outputs": []
    },
    {
      "cell_type": "code",
      "source": [
        "#time for make any calculas in list  is more than array 30 times (sometimes more)\n",
        "start = time.time()\n",
        "result = [(x+y ) for x,y in  zip(l1,l2)]\n",
        "print((time.time()- start) *1000)\n",
        "\n",
        "\n",
        "start = time.time()\n",
        "res = k1+k2\n",
        "print(1000 * ( time.time() -start))"
      ],
      "metadata": {
        "colab": {
          "base_uri": "https://localhost:8080/",
          "height": 0
        },
        "id": "kRzpZ3Roxk7R",
        "outputId": "ae7aff6a-a516-4a27-c38e-ba4c9622a45c"
      },
      "execution_count": 53,
      "outputs": [
        {
          "output_type": "stream",
          "name": "stdout",
          "text": [
            "137.54558563232422\n",
            "4.517316818237305\n"
          ]
        }
      ]
    },
    {
      "cell_type": "code",
      "source": [
        "# size of one item(ANY NUMBER) in list is : 28\n",
        "# but of one item in array is : 4 for int    and   8 for float\n",
        "print(sys.getsizeof(5))\n",
        "print(k1.itemsize)"
      ],
      "metadata": {
        "colab": {
          "base_uri": "https://localhost:8080/",
          "height": 0
        },
        "id": "2lduSkVS2x-y",
        "outputId": "83190500-e2f7-48d4-c9d2-1f46e09714ce"
      },
      "execution_count": 57,
      "outputs": [
        {
          "output_type": "stream",
          "name": "stdout",
          "text": [
            "28\n",
            "8\n"
          ]
        }
      ]
    },
    {
      "cell_type": "code",
      "source": [
        "a1 =  np.array([[1,2,34,45,65],[1,2,34,45,65]] , dtype=int)\n",
        "a2 = np.array([[1,2,34,45,65],[1,2,34,45,65]], dtype= np.float64)\n",
        "print(a1.shape)\n",
        "print(a1.reshape(5,2))\n",
        "print(a1.itemsize)\n",
        "print(a1.ndim)\n",
        "print(a1.dtype)\n",
        "print(a2.dtype)\n"
      ],
      "metadata": {
        "colab": {
          "base_uri": "https://localhost:8080/",
          "height": 0
        },
        "id": "2Tbv7oAKMQ5P",
        "outputId": "4ec9901f-397a-42d3-ee84-fd178c740c70"
      },
      "execution_count": 75,
      "outputs": [
        {
          "output_type": "stream",
          "name": "stdout",
          "text": [
            "(2, 5)\n",
            "[[ 1  2]\n",
            " [34 45]\n",
            " [65  1]\n",
            " [ 2 34]\n",
            " [45 65]]\n",
            "8\n",
            "2\n",
            "int64\n",
            "float64\n"
          ]
        }
      ]
    },
    {
      "cell_type": "code",
      "source": [
        "a3= np.zeros((3,66))\n",
        "a4= np.ones((3,26))\n",
        "print(a3)\n",
        "print(a4)\n",
        "\n",
        "\n",
        "print(a4.sum(axis=1))\n",
        "print(np.count_nonzero( a4 ,axis=0))"
      ],
      "metadata": {
        "colab": {
          "base_uri": "https://localhost:8080/"
        },
        "id": "DieeLdfZNmjk",
        "outputId": "2c15dac5-4b5f-4189-bdfe-202b834bf3d6"
      },
      "execution_count": 85,
      "outputs": [
        {
          "output_type": "stream",
          "name": "stdout",
          "text": [
            "[[0. 0. 0. 0. 0. 0. 0. 0. 0. 0. 0. 0. 0. 0. 0. 0. 0. 0. 0. 0. 0. 0. 0. 0.\n",
            "  0. 0. 0. 0. 0. 0. 0. 0. 0. 0. 0. 0. 0. 0. 0. 0. 0. 0. 0. 0. 0. 0. 0. 0.\n",
            "  0. 0. 0. 0. 0. 0. 0. 0. 0. 0. 0. 0. 0. 0. 0. 0. 0. 0.]\n",
            " [0. 0. 0. 0. 0. 0. 0. 0. 0. 0. 0. 0. 0. 0. 0. 0. 0. 0. 0. 0. 0. 0. 0. 0.\n",
            "  0. 0. 0. 0. 0. 0. 0. 0. 0. 0. 0. 0. 0. 0. 0. 0. 0. 0. 0. 0. 0. 0. 0. 0.\n",
            "  0. 0. 0. 0. 0. 0. 0. 0. 0. 0. 0. 0. 0. 0. 0. 0. 0. 0.]\n",
            " [0. 0. 0. 0. 0. 0. 0. 0. 0. 0. 0. 0. 0. 0. 0. 0. 0. 0. 0. 0. 0. 0. 0. 0.\n",
            "  0. 0. 0. 0. 0. 0. 0. 0. 0. 0. 0. 0. 0. 0. 0. 0. 0. 0. 0. 0. 0. 0. 0. 0.\n",
            "  0. 0. 0. 0. 0. 0. 0. 0. 0. 0. 0. 0. 0. 0. 0. 0. 0. 0.]]\n",
            "[[1. 1. 1. 1. 1. 1. 1. 1. 1. 1. 1. 1. 1. 1. 1. 1. 1. 1. 1. 1. 1. 1. 1. 1.\n",
            "  1. 1.]\n",
            " [1. 1. 1. 1. 1. 1. 1. 1. 1. 1. 1. 1. 1. 1. 1. 1. 1. 1. 1. 1. 1. 1. 1. 1.\n",
            "  1. 1.]\n",
            " [1. 1. 1. 1. 1. 1. 1. 1. 1. 1. 1. 1. 1. 1. 1. 1. 1. 1. 1. 1. 1. 1. 1. 1.\n",
            "  1. 1.]]\n",
            "[26. 26. 26.]\n",
            "[3 3 3 3 3 3 3 3 3 3 3 3 3 3 3 3 3 3 3 3 3 3 3 3 3 3]\n"
          ]
        }
      ]
    },
    {
      "cell_type": "code",
      "source": [
        "a5 = np.array([[23,34,23,23,12,344],[233,678,9,87,67,3]])\n",
        "a6 = np.array([[23,34,23,523,55412,344],[233,678,9,87,67,3]])\n",
        "\n",
        "print(a5 + a6)\n",
        "print(a5 - a6)\n",
        "print(a5 * a6)\n",
        "print(a5 / a6)"
      ],
      "metadata": {
        "colab": {
          "base_uri": "https://localhost:8080/"
        },
        "id": "3bmm7fNjR-YE",
        "outputId": "bc0c571d-7b0d-456c-b6b9-9ccbdad81bba"
      },
      "execution_count": 88,
      "outputs": [
        {
          "output_type": "stream",
          "name": "stdout",
          "text": [
            "[[   46    68    46   546 55424   688]\n",
            " [  466  1356    18   174   134     6]]\n",
            "[[     0      0      0   -500 -55400      0]\n",
            " [     0      0      0      0      0      0]]\n",
            "[[   529   1156    529  12029 664944 118336]\n",
            " [ 54289 459684     81   7569   4489      9]]\n",
            "[[1.00000000e+00 1.00000000e+00 1.00000000e+00 4.39770554e-02\n",
            "  2.16559590e-04 1.00000000e+00]\n",
            " [1.00000000e+00 1.00000000e+00 1.00000000e+00 1.00000000e+00\n",
            "  1.00000000e+00 1.00000000e+00]]\n"
          ]
        }
      ]
    },
    {
      "cell_type": "code",
      "source": [
        "print(np.vstack((a5,a6)))\n",
        "print(np.hstack((a5,a6)))\n",
        "\n",
        "print(np.hsplit(a5 , indices_or_sections=6))\n",
        "\n"
      ],
      "metadata": {
        "colab": {
          "base_uri": "https://localhost:8080/"
        },
        "id": "x0id1nyrT54e",
        "outputId": "01a7ebe2-9f21-4e96-8758-f585ce837c2c"
      },
      "execution_count": 115,
      "outputs": [
        {
          "output_type": "stream",
          "name": "stdout",
          "text": [
            "[[   23    34    23    23    12   344]\n",
            " [  233   678     9    87    67     3]\n",
            " [   23    34    23   523 55412   344]\n",
            " [  233   678     9    87    67     3]]\n",
            "[[   23    34    23    23    12   344    23    34    23   523 55412   344]\n",
            " [  233   678     9    87    67     3   233   678     9    87    67     3]]\n",
            "[array([[ 23],\n",
            "       [233]]), array([[ 34],\n",
            "       [678]]), array([[23],\n",
            "       [ 9]]), array([[23],\n",
            "       [87]]), array([[12],\n",
            "       [67]]), array([[344],\n",
            "       [  3]])]\n"
          ]
        }
      ]
    },
    {
      "cell_type": "code",
      "source": [
        "#to get rows\n",
        "\n",
        "for row in a6 :\n",
        "  print(row)\n",
        "\n",
        "########################v################################\n",
        "\n",
        "\n",
        "\n",
        "#to get columns\n",
        "\n",
        "a7=np.array( [ [23,34,45,675,45],\n",
        "                [12,43,54,554,665] ,\n",
        "              [1342,4345,5564,5544,64653]    ] )\n",
        "\n",
        "for i in range(len(a7[1])) :       \n",
        "    for row in a7 :\n",
        "      print(row[i])\n",
        "\n",
        "########################################################\n",
        "\n",
        "\n",
        "\n",
        "#to get all cells\n",
        "\n",
        "for cell in a6.flat :\n",
        "  print(cell)\n",
        "  "
      ],
      "metadata": {
        "colab": {
          "base_uri": "https://localhost:8080/"
        },
        "id": "YinVxp6SeqNH",
        "outputId": "07c249d4-6277-425f-82af-e11669e78a47"
      },
      "execution_count": 132,
      "outputs": [
        {
          "output_type": "stream",
          "name": "stdout",
          "text": [
            "[   23    34    23   523 55412   344]\n",
            "[233 678   9  87  67   3]\n",
            "23\n",
            "12\n",
            "1342\n",
            "34\n",
            "43\n",
            "4345\n",
            "45\n",
            "54\n",
            "5564\n",
            "675\n",
            "554\n",
            "5544\n",
            "45\n",
            "665\n",
            "64653\n",
            "23\n",
            "34\n",
            "23\n",
            "523\n",
            "55412\n",
            "344\n",
            "233\n",
            "678\n",
            "9\n",
            "87\n",
            "67\n",
            "3\n"
          ]
        }
      ]
    }
  ]
}